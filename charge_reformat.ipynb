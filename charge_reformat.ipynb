{
 "cells": [
  {
   "cell_type": "code",
   "execution_count": null,
   "id": "3337cc38-cbfe-4855-b580-efe780be479e",
   "metadata": {},
   "outputs": [],
   "source": [
    "#!/usr/bin/env python3\n",
    "# -*- coding: utf-8 -*-\n",
    "\n",
    "\n",
    "\n",
    "import pandas\n",
    "import numpy as np\n",
    "\n",
    "timesteps = 500000\n",
    "increment = 1000 #int(timesteps/500)\n",
    "step = 0\n",
    "\n",
    "for dump in np.arange(0,timesteps+increment,increment,int):\n",
    "\n",
    "    file_in = 'dump%d.data' % dump\n",
    "    file_out = 'step%d.data' % step\n",
    "    \n",
    "    natoms = pandas.read_csv(file_in,header=None,skiprows=3,nrows=1)\n",
    "    boxsize = pandas.read_csv(file_in,sep=None,header=None,engine='python',skiprows=5,nrows=3)\n",
    "    data = pandas.read_csv(file_in,sep=None,header=None,engine='python',skiprows=9)\n",
    "    \n",
    "    xlo = boxsize.iloc[0,0]\n",
    "    xhi = boxsize.iloc[0,1]\n",
    "    ylo = boxsize.iloc[1,0]\n",
    "    yhi = boxsize.iloc[1,1]\n",
    "    zlo = boxsize.iloc[2,0]\n",
    "    zhi = boxsize.iloc[2,1]\n",
    "        \n",
    "    with open(file_out,'w') as f:\n",
    "        f.write('First line always skipped \\n')\n",
    "        f.write('%d atoms \\n' % len(data))\n",
    "        f.write('%d %s \\n' % (5,'atom types'))\n",
    "        f.write('%f %f %s \\n' % (xlo,xhi,'xlo xhi'))\n",
    "        f.write('%f %f %s \\n' % (ylo,yhi,'ylo yhi'))\n",
    "        f.write('%f %f %s \\n \\n' % (zlo,zhi,'zlo zhi'))\n",
    "        f.write('%s \\n \\n' % 'Masses')\n",
    "        f.write('%d %f \\n' % (1, 88.90585))\n",
    "        f.write('%d %f \\n' % (2, 137.327))\n",
    "        f.write('%d %f \\n' % (3, 63.546))\n",
    "        f.write('%d %f \\n' % (4, 63.546))\n",
    "        f.write('%d %f \\n \\n' % (5, 15.9994))\n",
    "        f.write('%s \\n \\n' % 'Atoms # charge')\n",
    "        for index, row in data.iterrows():\n",
    "            qrow = 0\n",
    "            if row[1] == 1:\n",
    "                qrow = 1.9\n",
    "            elif row[1] == 2:\n",
    "                qrow = 1.5\n",
    "            elif row[1] == 3:\n",
    "                qrow = 1.4\n",
    "            elif row[1] == 4:\n",
    "                qrow = 1.4\n",
    "            elif row[1] == 5:\n",
    "                qrow = -1.3\n",
    "            f.write('%d %d %f %f %f %f %d %d %d \\n' % (row[0],row[1], qrow, row[2],row[3],row[4], 1, 1, 1))\n",
    "    \n",
    "    step=step+1000"
   ]
  },
  {
   "cell_type": "code",
   "execution_count": null,
   "id": "d7de8c89-e530-4223-a00e-b05589cb9861",
   "metadata": {},
   "outputs": [],
   "source": []
  }
 ],
 "metadata": {
  "kernelspec": {
   "display_name": "Python 3 (ipykernel)",
   "language": "python",
   "name": "python3"
  },
  "language_info": {
   "codemirror_mode": {
    "name": "ipython",
    "version": 3
   },
   "file_extension": ".py",
   "mimetype": "text/x-python",
   "name": "python",
   "nbconvert_exporter": "python",
   "pygments_lexer": "ipython3",
   "version": "3.8.15"
  }
 },
 "nbformat": 4,
 "nbformat_minor": 5
}
